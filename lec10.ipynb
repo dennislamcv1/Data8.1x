{
 "cells": [
  {
   "cell_type": "code",
   "execution_count": 1,
   "metadata": {},
   "outputs": [],
   "source": [
    "from datascience import *\n",
    "import numpy as np\n",
    "\n",
    "%matplotlib inline\n",
    "import matplotlib.pyplot as plots\n",
    "plots.style.use('fivethirtyeight')"
   ]
  },
  {
   "cell_type": "markdown",
   "metadata": {},
   "source": [
    "## One Attribute Group"
   ]
  },
  {
   "cell_type": "markdown",
   "metadata": {},
   "source": [
    "**Please run all cells before this cell, including the import cell at the top of the notebook.**"
   ]
  },
  {
   "cell_type": "code",
   "execution_count": 2,
   "metadata": {},
   "outputs": [
    {
     "data": {
      "text/html": [
       "<table border=\"1\" class=\"dataframe\">\n",
       "    <thead>\n",
       "        <tr>\n",
       "            <th>Flavor</th> <th>Price</th>\n",
       "        </tr>\n",
       "    </thead>\n",
       "    <tbody>\n",
       "        <tr>\n",
       "            <td>strawberry</td> <td>3.55 </td>\n",
       "        </tr>\n",
       "        <tr>\n",
       "            <td>chocolate </td> <td>4.75 </td>\n",
       "        </tr>\n",
       "        <tr>\n",
       "            <td>chocolate </td> <td>5.25 </td>\n",
       "        </tr>\n",
       "        <tr>\n",
       "            <td>strawberry</td> <td>5.25 </td>\n",
       "        </tr>\n",
       "        <tr>\n",
       "            <td>chocolate </td> <td>5.25 </td>\n",
       "        </tr>\n",
       "    </tbody>\n",
       "</table>"
      ],
      "text/plain": [
       "Flavor     | Price\n",
       "strawberry | 3.55\n",
       "chocolate  | 4.75\n",
       "chocolate  | 5.25\n",
       "strawberry | 5.25\n",
       "chocolate  | 5.25"
      ]
     },
     "execution_count": 2,
     "metadata": {},
     "output_type": "execute_result"
    }
   ],
   "source": [
    "all_cones = Table.read_table('cones.csv')\n",
    "cones = all_cones.drop('Color').exclude(5)\n",
    "cones"
   ]
  },
  {
   "cell_type": "code",
   "execution_count": 3,
   "metadata": {},
   "outputs": [
    {
     "data": {
      "text/html": [
       "<table border=\"1\" class=\"dataframe\">\n",
       "    <thead>\n",
       "        <tr>\n",
       "            <th>Flavor</th> <th>count</th>\n",
       "        </tr>\n",
       "    </thead>\n",
       "    <tbody>\n",
       "        <tr>\n",
       "            <td>chocolate </td> <td>3    </td>\n",
       "        </tr>\n",
       "        <tr>\n",
       "            <td>strawberry</td> <td>2    </td>\n",
       "        </tr>\n",
       "    </tbody>\n",
       "</table>"
      ],
      "text/plain": [
       "Flavor     | count\n",
       "chocolate  | 3\n",
       "strawberry | 2"
      ]
     },
     "execution_count": 3,
     "metadata": {},
     "output_type": "execute_result"
    }
   ],
   "source": [
    "cones.group('Flavor')"
   ]
  },
  {
   "cell_type": "code",
   "execution_count": 4,
   "metadata": {},
   "outputs": [
    {
     "data": {
      "text/html": [
       "<table border=\"1\" class=\"dataframe\">\n",
       "    <thead>\n",
       "        <tr>\n",
       "            <th>Flavor</th> <th>Price list</th>\n",
       "        </tr>\n",
       "    </thead>\n",
       "    <tbody>\n",
       "        <tr>\n",
       "            <td>chocolate </td> <td>[4.75, 5.25, 5.25]</td>\n",
       "        </tr>\n",
       "        <tr>\n",
       "            <td>strawberry</td> <td>[3.55, 5.25]      </td>\n",
       "        </tr>\n",
       "    </tbody>\n",
       "</table>"
      ],
      "text/plain": [
       "Flavor     | Price list\n",
       "chocolate  | [4.75, 5.25, 5.25]\n",
       "strawberry | [3.55, 5.25]"
      ]
     },
     "execution_count": 4,
     "metadata": {},
     "output_type": "execute_result"
    }
   ],
   "source": [
    "cones.group('Flavor', list)"
   ]
  },
  {
   "cell_type": "code",
   "execution_count": 5,
   "metadata": {},
   "outputs": [
    {
     "data": {
      "text/html": [
       "<table border=\"1\" class=\"dataframe\">\n",
       "    <thead>\n",
       "        <tr>\n",
       "            <th>Flavor</th> <th>Price len</th>\n",
       "        </tr>\n",
       "    </thead>\n",
       "    <tbody>\n",
       "        <tr>\n",
       "            <td>chocolate </td> <td>3        </td>\n",
       "        </tr>\n",
       "        <tr>\n",
       "            <td>strawberry</td> <td>2        </td>\n",
       "        </tr>\n",
       "    </tbody>\n",
       "</table>"
      ],
      "text/plain": [
       "Flavor     | Price len\n",
       "chocolate  | 3\n",
       "strawberry | 2"
      ]
     },
     "execution_count": 5,
     "metadata": {},
     "output_type": "execute_result"
    }
   ],
   "source": [
    "cones.group('Flavor', len)"
   ]
  },
  {
   "cell_type": "code",
   "execution_count": 6,
   "metadata": {},
   "outputs": [
    {
     "data": {
      "text/html": [
       "<table border=\"1\" class=\"dataframe\">\n",
       "    <thead>\n",
       "        <tr>\n",
       "            <th>Flavor</th> <th>Price min</th>\n",
       "        </tr>\n",
       "    </thead>\n",
       "    <tbody>\n",
       "        <tr>\n",
       "            <td>chocolate </td> <td>4.75     </td>\n",
       "        </tr>\n",
       "        <tr>\n",
       "            <td>strawberry</td> <td>3.55     </td>\n",
       "        </tr>\n",
       "    </tbody>\n",
       "</table>"
      ],
      "text/plain": [
       "Flavor     | Price min\n",
       "chocolate  | 4.75\n",
       "strawberry | 3.55"
      ]
     },
     "execution_count": 6,
     "metadata": {},
     "output_type": "execute_result"
    }
   ],
   "source": [
    "cones.group('Flavor', min)"
   ]
  },
  {
   "cell_type": "code",
   "execution_count": 7,
   "metadata": {},
   "outputs": [
    {
     "data": {
      "text/plain": [
       "4.75"
      ]
     },
     "execution_count": 7,
     "metadata": {},
     "output_type": "execute_result"
    }
   ],
   "source": [
    "min(cones.where('Flavor', 'chocolate').column('Price'))"
   ]
  },
  {
   "cell_type": "code",
   "execution_count": 8,
   "metadata": {},
   "outputs": [
    {
     "data": {
      "text/html": [
       "<table border=\"1\" class=\"dataframe\">\n",
       "    <thead>\n",
       "        <tr>\n",
       "            <th>Flavor</th> <th>Price average</th>\n",
       "        </tr>\n",
       "    </thead>\n",
       "    <tbody>\n",
       "        <tr>\n",
       "            <td>chocolate </td> <td>5.08333      </td>\n",
       "        </tr>\n",
       "        <tr>\n",
       "            <td>strawberry</td> <td>4.4          </td>\n",
       "        </tr>\n",
       "    </tbody>\n",
       "</table>"
      ],
      "text/plain": [
       "Flavor     | Price average\n",
       "chocolate  | 5.08333\n",
       "strawberry | 4.4"
      ]
     },
     "execution_count": 8,
     "metadata": {},
     "output_type": "execute_result"
    }
   ],
   "source": [
    "cones.group('Flavor', np.average)"
   ]
  },
  {
   "cell_type": "code",
   "execution_count": 9,
   "metadata": {},
   "outputs": [],
   "source": [
    "def data_range(x):\n",
    "    return max(x) - min(x)"
   ]
  },
  {
   "cell_type": "code",
   "execution_count": 10,
   "metadata": {},
   "outputs": [
    {
     "data": {
      "text/html": [
       "<table border=\"1\" class=\"dataframe\">\n",
       "    <thead>\n",
       "        <tr>\n",
       "            <th>Flavor</th> <th>Price data_range</th>\n",
       "        </tr>\n",
       "    </thead>\n",
       "    <tbody>\n",
       "        <tr>\n",
       "            <td>chocolate </td> <td>0.5             </td>\n",
       "        </tr>\n",
       "        <tr>\n",
       "            <td>strawberry</td> <td>1.7             </td>\n",
       "        </tr>\n",
       "    </tbody>\n",
       "</table>"
      ],
      "text/plain": [
       "Flavor     | Price data_range\n",
       "chocolate  | 0.5\n",
       "strawberry | 1.7"
      ]
     },
     "execution_count": 10,
     "metadata": {},
     "output_type": "execute_result"
    }
   ],
   "source": [
    "cones.group('Flavor', data_range)"
   ]
  },
  {
   "cell_type": "code",
   "execution_count": 11,
   "metadata": {},
   "outputs": [
    {
     "data": {
      "text/html": [
       "<table border=\"1\" class=\"dataframe\">\n",
       "    <thead>\n",
       "        <tr>\n",
       "            <th>PLAYER</th> <th>POSITION</th> <th>TEAM</th> <th>SALARY</th>\n",
       "        </tr>\n",
       "    </thead>\n",
       "    <tbody>\n",
       "        <tr>\n",
       "            <td>Paul Millsap    </td> <td>PF      </td> <td>Atlanta Hawks</td> <td>18.6717</td>\n",
       "        </tr>\n",
       "        <tr>\n",
       "            <td>Al Horford      </td> <td>C       </td> <td>Atlanta Hawks</td> <td>12     </td>\n",
       "        </tr>\n",
       "        <tr>\n",
       "            <td>Tiago Splitter  </td> <td>C       </td> <td>Atlanta Hawks</td> <td>9.75625</td>\n",
       "        </tr>\n",
       "        <tr>\n",
       "            <td>Jeff Teague     </td> <td>PG      </td> <td>Atlanta Hawks</td> <td>8      </td>\n",
       "        </tr>\n",
       "        <tr>\n",
       "            <td>Kyle Korver     </td> <td>SG      </td> <td>Atlanta Hawks</td> <td>5.74648</td>\n",
       "        </tr>\n",
       "        <tr>\n",
       "            <td>Thabo Sefolosha </td> <td>SF      </td> <td>Atlanta Hawks</td> <td>4      </td>\n",
       "        </tr>\n",
       "        <tr>\n",
       "            <td>Mike Scott      </td> <td>PF      </td> <td>Atlanta Hawks</td> <td>3.33333</td>\n",
       "        </tr>\n",
       "        <tr>\n",
       "            <td>Kent Bazemore   </td> <td>SF      </td> <td>Atlanta Hawks</td> <td>2      </td>\n",
       "        </tr>\n",
       "        <tr>\n",
       "            <td>Dennis Schroder </td> <td>PG      </td> <td>Atlanta Hawks</td> <td>1.7634 </td>\n",
       "        </tr>\n",
       "        <tr>\n",
       "            <td>Tim Hardaway Jr.</td> <td>SG      </td> <td>Atlanta Hawks</td> <td>1.30452</td>\n",
       "        </tr>\n",
       "    </tbody>\n",
       "</table>\n",
       "<p>... (407 rows omitted)</p>"
      ],
      "text/plain": [
       "PLAYER           | POSITION | TEAM          | SALARY\n",
       "Paul Millsap     | PF       | Atlanta Hawks | 18.6717\n",
       "Al Horford       | C        | Atlanta Hawks | 12\n",
       "Tiago Splitter   | C        | Atlanta Hawks | 9.75625\n",
       "Jeff Teague      | PG       | Atlanta Hawks | 8\n",
       "Kyle Korver      | SG       | Atlanta Hawks | 5.74648\n",
       "Thabo Sefolosha  | SF       | Atlanta Hawks | 4\n",
       "Mike Scott       | PF       | Atlanta Hawks | 3.33333\n",
       "Kent Bazemore    | SF       | Atlanta Hawks | 2\n",
       "Dennis Schroder  | PG       | Atlanta Hawks | 1.7634\n",
       "Tim Hardaway Jr. | SG       | Atlanta Hawks | 1.30452\n",
       "... (407 rows omitted)"
      ]
     },
     "execution_count": 11,
     "metadata": {},
     "output_type": "execute_result"
    }
   ],
   "source": [
    "nba = Table.read_table('nba_salaries.csv').relabeled(3, 'SALARY')\n",
    "nba"
   ]
  },
  {
   "cell_type": "code",
   "execution_count": 12,
   "metadata": {},
   "outputs": [
    {
     "data": {
      "text/html": [
       "<table border=\"1\" class=\"dataframe\">\n",
       "    <thead>\n",
       "        <tr>\n",
       "            <th>TEAM</th> <th>SALARY sum</th>\n",
       "        </tr>\n",
       "    </thead>\n",
       "    <tbody>\n",
       "        <tr>\n",
       "            <td>Cleveland Cavaliers  </td> <td>102.312   </td>\n",
       "        </tr>\n",
       "        <tr>\n",
       "            <td>Oklahoma City Thunder</td> <td>96.8322   </td>\n",
       "        </tr>\n",
       "        <tr>\n",
       "            <td>Golden State Warriors</td> <td>94.0851   </td>\n",
       "        </tr>\n",
       "        <tr>\n",
       "            <td>Memphis Grizzlies    </td> <td>93.7964   </td>\n",
       "        </tr>\n",
       "        <tr>\n",
       "            <td>Washington Wizards   </td> <td>90.0475   </td>\n",
       "        </tr>\n",
       "        <tr>\n",
       "            <td>Houston Rockets      </td> <td>85.2858   </td>\n",
       "        </tr>\n",
       "        <tr>\n",
       "            <td>San Antonio Spurs    </td> <td>84.6521   </td>\n",
       "        </tr>\n",
       "        <tr>\n",
       "            <td>Charlotte Hornets    </td> <td>84.1024   </td>\n",
       "        </tr>\n",
       "        <tr>\n",
       "            <td>Miami Heat           </td> <td>81.5287   </td>\n",
       "        </tr>\n",
       "        <tr>\n",
       "            <td>New Orleans Pelicans </td> <td>80.5146   </td>\n",
       "        </tr>\n",
       "    </tbody>\n",
       "</table>\n",
       "<p>... (20 rows omitted)</p>"
      ],
      "text/plain": [
       "TEAM                  | SALARY sum\n",
       "Cleveland Cavaliers   | 102.312\n",
       "Oklahoma City Thunder | 96.8322\n",
       "Golden State Warriors | 94.0851\n",
       "Memphis Grizzlies     | 93.7964\n",
       "Washington Wizards    | 90.0475\n",
       "Houston Rockets       | 85.2858\n",
       "San Antonio Spurs     | 84.6521\n",
       "Charlotte Hornets     | 84.1024\n",
       "Miami Heat            | 81.5287\n",
       "New Orleans Pelicans  | 80.5146\n",
       "... (20 rows omitted)"
      ]
     },
     "execution_count": 12,
     "metadata": {},
     "output_type": "execute_result"
    }
   ],
   "source": [
    "teams_and_money = nba.select('TEAM', 'SALARY')\n",
    "teams_and_money.group('TEAM', sum).sort(1, descending=True)"
   ]
  },
  {
   "cell_type": "code",
   "execution_count": 13,
   "metadata": {},
   "outputs": [
    {
     "data": {
      "text/html": [
       "<table border=\"1\" class=\"dataframe\">\n",
       "    <thead>\n",
       "        <tr>\n",
       "            <th>TEAM</th> <th>PLAYER sum</th> <th>POSITION sum</th> <th>SALARY sum</th>\n",
       "        </tr>\n",
       "    </thead>\n",
       "    <tbody>\n",
       "        <tr>\n",
       "            <td>Atlanta Hawks        </td> <td>          </td> <td>            </td> <td>69.5731   </td>\n",
       "        </tr>\n",
       "        <tr>\n",
       "            <td>Boston Celtics       </td> <td>          </td> <td>            </td> <td>50.2855   </td>\n",
       "        </tr>\n",
       "        <tr>\n",
       "            <td>Brooklyn Nets        </td> <td>          </td> <td>            </td> <td>57.307    </td>\n",
       "        </tr>\n",
       "        <tr>\n",
       "            <td>Charlotte Hornets    </td> <td>          </td> <td>            </td> <td>84.1024   </td>\n",
       "        </tr>\n",
       "        <tr>\n",
       "            <td>Chicago Bulls        </td> <td>          </td> <td>            </td> <td>78.8209   </td>\n",
       "        </tr>\n",
       "        <tr>\n",
       "            <td>Cleveland Cavaliers  </td> <td>          </td> <td>            </td> <td>102.312   </td>\n",
       "        </tr>\n",
       "        <tr>\n",
       "            <td>Dallas Mavericks     </td> <td>          </td> <td>            </td> <td>65.7626   </td>\n",
       "        </tr>\n",
       "        <tr>\n",
       "            <td>Denver Nuggets       </td> <td>          </td> <td>            </td> <td>62.4294   </td>\n",
       "        </tr>\n",
       "        <tr>\n",
       "            <td>Detroit Pistons      </td> <td>          </td> <td>            </td> <td>42.2118   </td>\n",
       "        </tr>\n",
       "        <tr>\n",
       "            <td>Golden State Warriors</td> <td>          </td> <td>            </td> <td>94.0851   </td>\n",
       "        </tr>\n",
       "    </tbody>\n",
       "</table>\n",
       "<p>... (20 rows omitted)</p>"
      ],
      "text/plain": [
       "TEAM                  | PLAYER sum | POSITION sum | SALARY sum\n",
       "Atlanta Hawks         |            |              | 69.5731\n",
       "Boston Celtics        |            |              | 50.2855\n",
       "Brooklyn Nets         |            |              | 57.307\n",
       "Charlotte Hornets     |            |              | 84.1024\n",
       "Chicago Bulls         |            |              | 78.8209\n",
       "Cleveland Cavaliers   |            |              | 102.312\n",
       "Dallas Mavericks      |            |              | 65.7626\n",
       "Denver Nuggets        |            |              | 62.4294\n",
       "Detroit Pistons       |            |              | 42.2118\n",
       "Golden State Warriors |            |              | 94.0851\n",
       "... (20 rows omitted)"
      ]
     },
     "execution_count": 13,
     "metadata": {},
     "output_type": "execute_result"
    }
   ],
   "source": [
    "nba.group('TEAM', sum)"
   ]
  },
  {
   "cell_type": "code",
   "execution_count": 14,
   "metadata": {},
   "outputs": [
    {
     "data": {
      "text/html": [
       "<table border=\"1\" class=\"dataframe\">\n",
       "    <thead>\n",
       "        <tr>\n",
       "            <th>POSITION</th> <th>count</th>\n",
       "        </tr>\n",
       "    </thead>\n",
       "    <tbody>\n",
       "        <tr>\n",
       "            <td>C       </td> <td>69   </td>\n",
       "        </tr>\n",
       "        <tr>\n",
       "            <td>PF      </td> <td>85   </td>\n",
       "        </tr>\n",
       "        <tr>\n",
       "            <td>PG      </td> <td>85   </td>\n",
       "        </tr>\n",
       "        <tr>\n",
       "            <td>SF      </td> <td>82   </td>\n",
       "        </tr>\n",
       "        <tr>\n",
       "            <td>SG      </td> <td>96   </td>\n",
       "        </tr>\n",
       "    </tbody>\n",
       "</table>"
      ],
      "text/plain": [
       "POSITION | count\n",
       "C        | 69\n",
       "PF       | 85\n",
       "PG       | 85\n",
       "SF       | 82\n",
       "SG       | 96"
      ]
     },
     "execution_count": 14,
     "metadata": {},
     "output_type": "execute_result"
    }
   ],
   "source": [
    "position_and_money = nba.select('POSITION', 'SALARY')\n",
    "position_and_money.group('POSITION')"
   ]
  },
  {
   "cell_type": "code",
   "execution_count": 15,
   "metadata": {},
   "outputs": [
    {
     "data": {
      "text/html": [
       "<table border=\"1\" class=\"dataframe\">\n",
       "    <thead>\n",
       "        <tr>\n",
       "            <th>POSITION</th> <th>SALARY average</th>\n",
       "        </tr>\n",
       "    </thead>\n",
       "    <tbody>\n",
       "        <tr>\n",
       "            <td>C       </td> <td>6.08291       </td>\n",
       "        </tr>\n",
       "        <tr>\n",
       "            <td>PF      </td> <td>4.95134       </td>\n",
       "        </tr>\n",
       "        <tr>\n",
       "            <td>PG      </td> <td>5.16549       </td>\n",
       "        </tr>\n",
       "        <tr>\n",
       "            <td>SF      </td> <td>5.53267       </td>\n",
       "        </tr>\n",
       "        <tr>\n",
       "            <td>SG      </td> <td>3.9882        </td>\n",
       "        </tr>\n",
       "    </tbody>\n",
       "</table>"
      ],
      "text/plain": [
       "POSITION | SALARY average\n",
       "C        | 6.08291\n",
       "PF       | 4.95134\n",
       "PG       | 5.16549\n",
       "SF       | 5.53267\n",
       "SG       | 3.9882"
      ]
     },
     "execution_count": 15,
     "metadata": {},
     "output_type": "execute_result"
    }
   ],
   "source": [
    "position_and_money.group('POSITION', np.average)"
   ]
  },
  {
   "cell_type": "markdown",
   "metadata": {},
   "source": [
    "## Cross Classification"
   ]
  },
  {
   "cell_type": "markdown",
   "metadata": {},
   "source": [
    "**Please run all cells before this cell, including the previous example cells and the import cell at the top of the notebook.**"
   ]
  },
  {
   "cell_type": "code",
   "execution_count": 16,
   "metadata": {},
   "outputs": [
    {
     "data": {
      "text/html": [
       "<table border=\"1\" class=\"dataframe\">\n",
       "    <thead>\n",
       "        <tr>\n",
       "            <th>Flavor</th> <th>Color</th> <th>Price</th>\n",
       "        </tr>\n",
       "    </thead>\n",
       "    <tbody>\n",
       "        <tr>\n",
       "            <td>strawberry</td> <td>pink       </td> <td>3.55 </td>\n",
       "        </tr>\n",
       "        <tr>\n",
       "            <td>chocolate </td> <td>light brown</td> <td>4.75 </td>\n",
       "        </tr>\n",
       "        <tr>\n",
       "            <td>chocolate </td> <td>dark brown </td> <td>5.25 </td>\n",
       "        </tr>\n",
       "        <tr>\n",
       "            <td>strawberry</td> <td>pink       </td> <td>5.25 </td>\n",
       "        </tr>\n",
       "        <tr>\n",
       "            <td>chocolate </td> <td>dark brown </td> <td>5.25 </td>\n",
       "        </tr>\n",
       "        <tr>\n",
       "            <td>bubblegum </td> <td>pink       </td> <td>4.75 </td>\n",
       "        </tr>\n",
       "    </tbody>\n",
       "</table>"
      ],
      "text/plain": [
       "Flavor     | Color       | Price\n",
       "strawberry | pink        | 3.55\n",
       "chocolate  | light brown | 4.75\n",
       "chocolate  | dark brown  | 5.25\n",
       "strawberry | pink        | 5.25\n",
       "chocolate  | dark brown  | 5.25\n",
       "bubblegum  | pink        | 4.75"
      ]
     },
     "execution_count": 16,
     "metadata": {},
     "output_type": "execute_result"
    }
   ],
   "source": [
    "all_cones"
   ]
  },
  {
   "cell_type": "code",
   "execution_count": 17,
   "metadata": {},
   "outputs": [
    {
     "data": {
      "text/html": [
       "<table border=\"1\" class=\"dataframe\">\n",
       "    <thead>\n",
       "        <tr>\n",
       "            <th>Flavor</th> <th>count</th>\n",
       "        </tr>\n",
       "    </thead>\n",
       "    <tbody>\n",
       "        <tr>\n",
       "            <td>bubblegum </td> <td>1    </td>\n",
       "        </tr>\n",
       "        <tr>\n",
       "            <td>chocolate </td> <td>3    </td>\n",
       "        </tr>\n",
       "        <tr>\n",
       "            <td>strawberry</td> <td>2    </td>\n",
       "        </tr>\n",
       "    </tbody>\n",
       "</table>"
      ],
      "text/plain": [
       "Flavor     | count\n",
       "bubblegum  | 1\n",
       "chocolate  | 3\n",
       "strawberry | 2"
      ]
     },
     "execution_count": 17,
     "metadata": {},
     "output_type": "execute_result"
    }
   ],
   "source": [
    "all_cones.group('Flavor')"
   ]
  },
  {
   "cell_type": "code",
   "execution_count": 18,
   "metadata": {},
   "outputs": [
    {
     "data": {
      "text/html": [
       "<table border=\"1\" class=\"dataframe\">\n",
       "    <thead>\n",
       "        <tr>\n",
       "            <th>Flavor</th> <th>Color</th> <th>count</th>\n",
       "        </tr>\n",
       "    </thead>\n",
       "    <tbody>\n",
       "        <tr>\n",
       "            <td>bubblegum </td> <td>pink       </td> <td>1    </td>\n",
       "        </tr>\n",
       "        <tr>\n",
       "            <td>chocolate </td> <td>dark brown </td> <td>2    </td>\n",
       "        </tr>\n",
       "        <tr>\n",
       "            <td>chocolate </td> <td>light brown</td> <td>1    </td>\n",
       "        </tr>\n",
       "        <tr>\n",
       "            <td>strawberry</td> <td>pink       </td> <td>2    </td>\n",
       "        </tr>\n",
       "    </tbody>\n",
       "</table>"
      ],
      "text/plain": [
       "Flavor     | Color       | count\n",
       "bubblegum  | pink        | 1\n",
       "chocolate  | dark brown  | 2\n",
       "chocolate  | light brown | 1\n",
       "strawberry | pink        | 2"
      ]
     },
     "execution_count": 18,
     "metadata": {},
     "output_type": "execute_result"
    }
   ],
   "source": [
    "all_cones.group(['Flavor', 'Color'])"
   ]
  },
  {
   "cell_type": "code",
   "execution_count": 19,
   "metadata": {},
   "outputs": [
    {
     "data": {
      "text/html": [
       "<table border=\"1\" class=\"dataframe\">\n",
       "    <thead>\n",
       "        <tr>\n",
       "            <th>Flavor</th> <th>Color</th> <th>Price max</th>\n",
       "        </tr>\n",
       "    </thead>\n",
       "    <tbody>\n",
       "        <tr>\n",
       "            <td>bubblegum </td> <td>pink       </td> <td>4.75     </td>\n",
       "        </tr>\n",
       "        <tr>\n",
       "            <td>chocolate </td> <td>dark brown </td> <td>5.25     </td>\n",
       "        </tr>\n",
       "        <tr>\n",
       "            <td>chocolate </td> <td>light brown</td> <td>4.75     </td>\n",
       "        </tr>\n",
       "        <tr>\n",
       "            <td>strawberry</td> <td>pink       </td> <td>5.25     </td>\n",
       "        </tr>\n",
       "    </tbody>\n",
       "</table>"
      ],
      "text/plain": [
       "Flavor     | Color       | Price max\n",
       "bubblegum  | pink        | 4.75\n",
       "chocolate  | dark brown  | 5.25\n",
       "chocolate  | light brown | 4.75\n",
       "strawberry | pink        | 5.25"
      ]
     },
     "execution_count": 19,
     "metadata": {},
     "output_type": "execute_result"
    }
   ],
   "source": [
    "all_cones.group(['Flavor', 'Color'], max)"
   ]
  },
  {
   "cell_type": "code",
   "execution_count": 20,
   "metadata": {},
   "outputs": [
    {
     "data": {
      "text/html": [
       "<table border=\"1\" class=\"dataframe\">\n",
       "    <thead>\n",
       "        <tr>\n",
       "            <th>PLAYER</th> <th>POSITION</th> <th>TEAM</th> <th>SALARY</th>\n",
       "        </tr>\n",
       "    </thead>\n",
       "    <tbody>\n",
       "        <tr>\n",
       "            <td>Paul Millsap    </td> <td>PF      </td> <td>Atlanta Hawks</td> <td>18.6717</td>\n",
       "        </tr>\n",
       "        <tr>\n",
       "            <td>Al Horford      </td> <td>C       </td> <td>Atlanta Hawks</td> <td>12     </td>\n",
       "        </tr>\n",
       "        <tr>\n",
       "            <td>Tiago Splitter  </td> <td>C       </td> <td>Atlanta Hawks</td> <td>9.75625</td>\n",
       "        </tr>\n",
       "        <tr>\n",
       "            <td>Jeff Teague     </td> <td>PG      </td> <td>Atlanta Hawks</td> <td>8      </td>\n",
       "        </tr>\n",
       "        <tr>\n",
       "            <td>Kyle Korver     </td> <td>SG      </td> <td>Atlanta Hawks</td> <td>5.74648</td>\n",
       "        </tr>\n",
       "        <tr>\n",
       "            <td>Thabo Sefolosha </td> <td>SF      </td> <td>Atlanta Hawks</td> <td>4      </td>\n",
       "        </tr>\n",
       "        <tr>\n",
       "            <td>Mike Scott      </td> <td>PF      </td> <td>Atlanta Hawks</td> <td>3.33333</td>\n",
       "        </tr>\n",
       "        <tr>\n",
       "            <td>Kent Bazemore   </td> <td>SF      </td> <td>Atlanta Hawks</td> <td>2      </td>\n",
       "        </tr>\n",
       "        <tr>\n",
       "            <td>Dennis Schroder </td> <td>PG      </td> <td>Atlanta Hawks</td> <td>1.7634 </td>\n",
       "        </tr>\n",
       "        <tr>\n",
       "            <td>Tim Hardaway Jr.</td> <td>SG      </td> <td>Atlanta Hawks</td> <td>1.30452</td>\n",
       "        </tr>\n",
       "    </tbody>\n",
       "</table>\n",
       "<p>... (407 rows omitted)</p>"
      ],
      "text/plain": [
       "PLAYER           | POSITION | TEAM          | SALARY\n",
       "Paul Millsap     | PF       | Atlanta Hawks | 18.6717\n",
       "Al Horford       | C        | Atlanta Hawks | 12\n",
       "Tiago Splitter   | C        | Atlanta Hawks | 9.75625\n",
       "Jeff Teague      | PG       | Atlanta Hawks | 8\n",
       "Kyle Korver      | SG       | Atlanta Hawks | 5.74648\n",
       "Thabo Sefolosha  | SF       | Atlanta Hawks | 4\n",
       "Mike Scott       | PF       | Atlanta Hawks | 3.33333\n",
       "Kent Bazemore    | SF       | Atlanta Hawks | 2\n",
       "Dennis Schroder  | PG       | Atlanta Hawks | 1.7634\n",
       "Tim Hardaway Jr. | SG       | Atlanta Hawks | 1.30452\n",
       "... (407 rows omitted)"
      ]
     },
     "execution_count": 20,
     "metadata": {},
     "output_type": "execute_result"
    }
   ],
   "source": [
    "nba"
   ]
  },
  {
   "cell_type": "code",
   "execution_count": 21,
   "metadata": {},
   "outputs": [
    {
     "data": {
      "text/html": [
       "<table border=\"1\" class=\"dataframe\">\n",
       "    <thead>\n",
       "        <tr>\n",
       "            <th>TEAM</th> <th>POSITION</th> <th>SALARY average</th>\n",
       "        </tr>\n",
       "    </thead>\n",
       "    <tbody>\n",
       "        <tr>\n",
       "            <td>Atlanta Hawks </td> <td>C       </td> <td>7.58542       </td>\n",
       "        </tr>\n",
       "        <tr>\n",
       "            <td>Atlanta Hawks </td> <td>PF      </td> <td>11.0025       </td>\n",
       "        </tr>\n",
       "        <tr>\n",
       "            <td>Atlanta Hawks </td> <td>PG      </td> <td>4.8817        </td>\n",
       "        </tr>\n",
       "        <tr>\n",
       "            <td>Atlanta Hawks </td> <td>SF      </td> <td>3             </td>\n",
       "        </tr>\n",
       "        <tr>\n",
       "            <td>Atlanta Hawks </td> <td>SG      </td> <td>1.80969       </td>\n",
       "        </tr>\n",
       "        <tr>\n",
       "            <td>Boston Celtics</td> <td>C       </td> <td>2.45046       </td>\n",
       "        </tr>\n",
       "        <tr>\n",
       "            <td>Boston Celtics</td> <td>PF      </td> <td>3.08548       </td>\n",
       "        </tr>\n",
       "        <tr>\n",
       "            <td>Boston Celtics</td> <td>PG      </td> <td>4.97465       </td>\n",
       "        </tr>\n",
       "        <tr>\n",
       "            <td>Boston Celtics</td> <td>SF      </td> <td>4.41716       </td>\n",
       "        </tr>\n",
       "        <tr>\n",
       "            <td>Boston Celtics</td> <td>SG      </td> <td>2.00755       </td>\n",
       "        </tr>\n",
       "    </tbody>\n",
       "</table>\n",
       "<p>... (137 rows omitted)</p>"
      ],
      "text/plain": [
       "TEAM           | POSITION | SALARY average\n",
       "Atlanta Hawks  | C        | 7.58542\n",
       "Atlanta Hawks  | PF       | 11.0025\n",
       "Atlanta Hawks  | PG       | 4.8817\n",
       "Atlanta Hawks  | SF       | 3\n",
       "Atlanta Hawks  | SG       | 1.80969\n",
       "Boston Celtics | C        | 2.45046\n",
       "Boston Celtics | PF       | 3.08548\n",
       "Boston Celtics | PG       | 4.97465\n",
       "Boston Celtics | SF       | 4.41716\n",
       "Boston Celtics | SG       | 2.00755\n",
       "... (137 rows omitted)"
      ]
     },
     "execution_count": 21,
     "metadata": {},
     "output_type": "execute_result"
    }
   ],
   "source": [
    "nba.drop(0).group(['TEAM', 'POSITION'], np.average)"
   ]
  },
  {
   "cell_type": "code",
   "execution_count": 22,
   "metadata": {},
   "outputs": [
    {
     "data": {
      "text/html": [
       "<table border=\"1\" class=\"dataframe\">\n",
       "    <thead>\n",
       "        <tr>\n",
       "            <th>POSITION</th> <th>SALARY average</th>\n",
       "        </tr>\n",
       "    </thead>\n",
       "    <tbody>\n",
       "        <tr>\n",
       "            <td>C       </td> <td>6.08291       </td>\n",
       "        </tr>\n",
       "        <tr>\n",
       "            <td>PF      </td> <td>4.95134       </td>\n",
       "        </tr>\n",
       "        <tr>\n",
       "            <td>PG      </td> <td>5.16549       </td>\n",
       "        </tr>\n",
       "        <tr>\n",
       "            <td>SF      </td> <td>5.53267       </td>\n",
       "        </tr>\n",
       "        <tr>\n",
       "            <td>SG      </td> <td>3.9882        </td>\n",
       "        </tr>\n",
       "    </tbody>\n",
       "</table>"
      ],
      "text/plain": [
       "POSITION | SALARY average\n",
       "C        | 6.08291\n",
       "PF       | 4.95134\n",
       "PG       | 5.16549\n",
       "SF       | 5.53267\n",
       "SG       | 3.9882"
      ]
     },
     "execution_count": 22,
     "metadata": {},
     "output_type": "execute_result"
    }
   ],
   "source": [
    "nba.drop(0, 2).group('POSITION', np.average)"
   ]
  },
  {
   "cell_type": "code",
   "execution_count": 23,
   "metadata": {},
   "outputs": [
    {
     "data": {
      "text/html": [
       "<table border=\"1\" class=\"dataframe\">\n",
       "    <thead>\n",
       "        <tr>\n",
       "            <th>Age</th> <th>Gender</th> <th>Educational Attainment</th> <th>Personal Income</th> <th>Population Count</th>\n",
       "        </tr>\n",
       "    </thead>\n",
       "    <tbody>\n",
       "        <tr>\n",
       "            <td>18 to 64 </td> <td>Female</td> <td>No high school diploma        </td> <td>H: 75,000 and over </td> <td>2058            </td>\n",
       "        </tr>\n",
       "        <tr>\n",
       "            <td>65 to 80+</td> <td>Male  </td> <td>No high school diploma        </td> <td>H: 75,000 and over </td> <td>2153            </td>\n",
       "        </tr>\n",
       "        <tr>\n",
       "            <td>65 to 80+</td> <td>Female</td> <td>No high school diploma        </td> <td>G: 50,000 to 74,999</td> <td>4666            </td>\n",
       "        </tr>\n",
       "        <tr>\n",
       "            <td>65 to 80+</td> <td>Female</td> <td>High school or equivalent     </td> <td>H: 75,000 and over </td> <td>7122            </td>\n",
       "        </tr>\n",
       "        <tr>\n",
       "            <td>65 to 80+</td> <td>Female</td> <td>No high school diploma        </td> <td>F: 35,000 to 49,999</td> <td>7261            </td>\n",
       "        </tr>\n",
       "        <tr>\n",
       "            <td>65 to 80+</td> <td>Male  </td> <td>No high school diploma        </td> <td>G: 50,000 to 74,999</td> <td>8569            </td>\n",
       "        </tr>\n",
       "        <tr>\n",
       "            <td>18 to 64 </td> <td>Female</td> <td>No high school diploma        </td> <td>G: 50,000 to 74,999</td> <td>14635           </td>\n",
       "        </tr>\n",
       "        <tr>\n",
       "            <td>65 to 80+</td> <td>Male  </td> <td>No high school diploma        </td> <td>F: 35,000 to 49,999</td> <td>15212           </td>\n",
       "        </tr>\n",
       "        <tr>\n",
       "            <td>65 to 80+</td> <td>Male  </td> <td>College, less than 4-yr degree</td> <td>B: 5,000 to 9,999  </td> <td>15423           </td>\n",
       "        </tr>\n",
       "        <tr>\n",
       "            <td>65 to 80+</td> <td>Female</td> <td>Bachelor's degree or higher   </td> <td>A: 0 to 4,999      </td> <td>15459           </td>\n",
       "        </tr>\n",
       "    </tbody>\n",
       "</table>\n",
       "<p>... (117 rows omitted)</p>"
      ],
      "text/plain": [
       "Age       | Gender | Educational Attainment         | Personal Income     | Population Count\n",
       "18 to 64  | Female | No high school diploma         | H: 75,000 and over  | 2058\n",
       "65 to 80+ | Male   | No high school diploma         | H: 75,000 and over  | 2153\n",
       "65 to 80+ | Female | No high school diploma         | G: 50,000 to 74,999 | 4666\n",
       "65 to 80+ | Female | High school or equivalent      | H: 75,000 and over  | 7122\n",
       "65 to 80+ | Female | No high school diploma         | F: 35,000 to 49,999 | 7261\n",
       "65 to 80+ | Male   | No high school diploma         | G: 50,000 to 74,999 | 8569\n",
       "18 to 64  | Female | No high school diploma         | G: 50,000 to 74,999 | 14635\n",
       "65 to 80+ | Male   | No high school diploma         | F: 35,000 to 49,999 | 15212\n",
       "65 to 80+ | Male   | College, less than 4-yr degree | B: 5,000 to 9,999   | 15423\n",
       "65 to 80+ | Female | Bachelor's degree or higher    | A: 0 to 4,999       | 15459\n",
       "... (117 rows omitted)"
      ]
     },
     "execution_count": 23,
     "metadata": {},
     "output_type": "execute_result"
    }
   ],
   "source": [
    "full_table = Table.read_table('educ_inc.csv')\n",
    "ca_2014 = full_table.where('Year', are.equal_to('1/1/14 0:00')).where('Age', are.not_equal_to('00 to 17')).drop(0).sort('Population Count')\n",
    "ca_2014"
   ]
  },
  {
   "cell_type": "code",
   "execution_count": 24,
   "metadata": {},
   "outputs": [
    {
     "data": {
      "text/html": [
       "<table border=\"1\" class=\"dataframe\">\n",
       "    <thead>\n",
       "        <tr>\n",
       "            <th>Gender</th> <th>Educational Attainment</th> <th>Personal Income</th> <th>Population Count</th>\n",
       "        </tr>\n",
       "    </thead>\n",
       "    <tbody>\n",
       "        <tr>\n",
       "            <td>Female</td> <td>No high school diploma        </td> <td>H: 75,000 and over </td> <td>2058            </td>\n",
       "        </tr>\n",
       "        <tr>\n",
       "            <td>Male  </td> <td>No high school diploma        </td> <td>H: 75,000 and over </td> <td>2153            </td>\n",
       "        </tr>\n",
       "        <tr>\n",
       "            <td>Female</td> <td>No high school diploma        </td> <td>G: 50,000 to 74,999</td> <td>4666            </td>\n",
       "        </tr>\n",
       "        <tr>\n",
       "            <td>Female</td> <td>High school or equivalent     </td> <td>H: 75,000 and over </td> <td>7122            </td>\n",
       "        </tr>\n",
       "        <tr>\n",
       "            <td>Female</td> <td>No high school diploma        </td> <td>F: 35,000 to 49,999</td> <td>7261            </td>\n",
       "        </tr>\n",
       "        <tr>\n",
       "            <td>Male  </td> <td>No high school diploma        </td> <td>G: 50,000 to 74,999</td> <td>8569            </td>\n",
       "        </tr>\n",
       "        <tr>\n",
       "            <td>Female</td> <td>No high school diploma        </td> <td>G: 50,000 to 74,999</td> <td>14635           </td>\n",
       "        </tr>\n",
       "        <tr>\n",
       "            <td>Male  </td> <td>No high school diploma        </td> <td>F: 35,000 to 49,999</td> <td>15212           </td>\n",
       "        </tr>\n",
       "        <tr>\n",
       "            <td>Male  </td> <td>College, less than 4-yr degree</td> <td>B: 5,000 to 9,999  </td> <td>15423           </td>\n",
       "        </tr>\n",
       "        <tr>\n",
       "            <td>Female</td> <td>Bachelor's degree or higher   </td> <td>A: 0 to 4,999      </td> <td>15459           </td>\n",
       "        </tr>\n",
       "    </tbody>\n",
       "</table>\n",
       "<p>... (117 rows omitted)</p>"
      ],
      "text/plain": [
       "Gender | Educational Attainment         | Personal Income     | Population Count\n",
       "Female | No high school diploma         | H: 75,000 and over  | 2058\n",
       "Male   | No high school diploma         | H: 75,000 and over  | 2153\n",
       "Female | No high school diploma         | G: 50,000 to 74,999 | 4666\n",
       "Female | High school or equivalent      | H: 75,000 and over  | 7122\n",
       "Female | No high school diploma         | F: 35,000 to 49,999 | 7261\n",
       "Male   | No high school diploma         | G: 50,000 to 74,999 | 8569\n",
       "Female | No high school diploma         | G: 50,000 to 74,999 | 14635\n",
       "Male   | No high school diploma         | F: 35,000 to 49,999 | 15212\n",
       "Male   | College, less than 4-yr degree | B: 5,000 to 9,999   | 15423\n",
       "Female | Bachelor's degree or higher    | A: 0 to 4,999       | 15459\n",
       "... (117 rows omitted)"
      ]
     },
     "execution_count": 24,
     "metadata": {},
     "output_type": "execute_result"
    }
   ],
   "source": [
    "no_ages = ca_2014.drop(0)\n",
    "no_ages"
   ]
  },
  {
   "cell_type": "code",
   "execution_count": 25,
   "metadata": {},
   "outputs": [
    {
     "data": {
      "text/html": [
       "<table border=\"1\" class=\"dataframe\">\n",
       "    <thead>\n",
       "        <tr>\n",
       "            <th>Gender</th> <th>Educational Attainment</th> <th>Personal Income</th> <th>Population Count sum</th>\n",
       "        </tr>\n",
       "    </thead>\n",
       "    <tbody>\n",
       "        <tr>\n",
       "            <td>Female</td> <td>Bachelor's degree or higher   </td> <td>A: 0 to 4,999      </td> <td>374723              </td>\n",
       "        </tr>\n",
       "        <tr>\n",
       "            <td>Female</td> <td>Bachelor's degree or higher   </td> <td>B: 5,000 to 9,999  </td> <td>211446              </td>\n",
       "        </tr>\n",
       "        <tr>\n",
       "            <td>Female</td> <td>Bachelor's degree or higher   </td> <td>C: 10,000 to 14,999</td> <td>311524              </td>\n",
       "        </tr>\n",
       "        <tr>\n",
       "            <td>Female</td> <td>Bachelor's degree or higher   </td> <td>D: 15,000 to 24,999</td> <td>435732              </td>\n",
       "        </tr>\n",
       "        <tr>\n",
       "            <td>Female</td> <td>Bachelor's degree or higher   </td> <td>E: 25,000 to 34,999</td> <td>400218              </td>\n",
       "        </tr>\n",
       "        <tr>\n",
       "            <td>Female</td> <td>Bachelor's degree or higher   </td> <td>F: 35,000 to 49,999</td> <td>644603              </td>\n",
       "        </tr>\n",
       "        <tr>\n",
       "            <td>Female</td> <td>Bachelor's degree or higher   </td> <td>G: 50,000 to 74,999</td> <td>757705              </td>\n",
       "        </tr>\n",
       "        <tr>\n",
       "            <td>Female</td> <td>Bachelor's degree or higher   </td> <td>H: 75,000 and over </td> <td>1063291             </td>\n",
       "        </tr>\n",
       "        <tr>\n",
       "            <td>Female</td> <td>College, less than 4-yr degree</td> <td>A: 0 to 4,999      </td> <td>614511              </td>\n",
       "        </tr>\n",
       "        <tr>\n",
       "            <td>Female</td> <td>College, less than 4-yr degree</td> <td>B: 5,000 to 9,999  </td> <td>540089              </td>\n",
       "        </tr>\n",
       "    </tbody>\n",
       "</table>\n",
       "<p>... (54 rows omitted)</p>"
      ],
      "text/plain": [
       "Gender | Educational Attainment         | Personal Income     | Population Count sum\n",
       "Female | Bachelor's degree or higher    | A: 0 to 4,999       | 374723\n",
       "Female | Bachelor's degree or higher    | B: 5,000 to 9,999   | 211446\n",
       "Female | Bachelor's degree or higher    | C: 10,000 to 14,999 | 311524\n",
       "Female | Bachelor's degree or higher    | D: 15,000 to 24,999 | 435732\n",
       "Female | Bachelor's degree or higher    | E: 25,000 to 34,999 | 400218\n",
       "Female | Bachelor's degree or higher    | F: 35,000 to 49,999 | 644603\n",
       "Female | Bachelor's degree or higher    | G: 50,000 to 74,999 | 757705\n",
       "Female | Bachelor's degree or higher    | H: 75,000 and over  | 1063291\n",
       "Female | College, less than 4-yr degree | A: 0 to 4,999       | 614511\n",
       "Female | College, less than 4-yr degree | B: 5,000 to 9,999   | 540089\n",
       "... (54 rows omitted)"
      ]
     },
     "execution_count": 25,
     "metadata": {},
     "output_type": "execute_result"
    }
   ],
   "source": [
    "no_ages.group([0, 1, 2], sum)"
   ]
  },
  {
   "cell_type": "markdown",
   "metadata": {},
   "source": [
    "## Example 1: NBA Salaries with group"
   ]
  },
  {
   "cell_type": "markdown",
   "metadata": {},
   "source": [
    "**Please run all cells before this cell, including the previous example cells and the import cell at the top of the notebook.**"
   ]
  },
  {
   "cell_type": "code",
   "execution_count": 26,
   "metadata": {},
   "outputs": [
    {
     "data": {
      "text/html": [
       "<table border=\"1\" class=\"dataframe\">\n",
       "    <thead>\n",
       "        <tr>\n",
       "            <th>TEAM</th> <th>POSITION</th> <th>SALARY max</th>\n",
       "        </tr>\n",
       "    </thead>\n",
       "    <tbody>\n",
       "        <tr>\n",
       "            <td>Atlanta Hawks </td> <td>C       </td> <td>12        </td>\n",
       "        </tr>\n",
       "        <tr>\n",
       "            <td>Atlanta Hawks </td> <td>PF      </td> <td>18.6717   </td>\n",
       "        </tr>\n",
       "        <tr>\n",
       "            <td>Atlanta Hawks </td> <td>PG      </td> <td>8         </td>\n",
       "        </tr>\n",
       "        <tr>\n",
       "            <td>Atlanta Hawks </td> <td>SF      </td> <td>4         </td>\n",
       "        </tr>\n",
       "        <tr>\n",
       "            <td>Atlanta Hawks </td> <td>SG      </td> <td>5.74648   </td>\n",
       "        </tr>\n",
       "        <tr>\n",
       "            <td>Boston Celtics</td> <td>C       </td> <td>2.61698   </td>\n",
       "        </tr>\n",
       "        <tr>\n",
       "            <td>Boston Celtics</td> <td>PF      </td> <td>5         </td>\n",
       "        </tr>\n",
       "        <tr>\n",
       "            <td>Boston Celtics</td> <td>PG      </td> <td>7.73034   </td>\n",
       "        </tr>\n",
       "        <tr>\n",
       "            <td>Boston Celtics</td> <td>SF      </td> <td>6.79612   </td>\n",
       "        </tr>\n",
       "        <tr>\n",
       "            <td>Boston Celtics</td> <td>SG      </td> <td>3.42551   </td>\n",
       "        </tr>\n",
       "    </tbody>\n",
       "</table>\n",
       "<p>... (137 rows omitted)</p>"
      ],
      "text/plain": [
       "TEAM           | POSITION | SALARY max\n",
       "Atlanta Hawks  | C        | 12\n",
       "Atlanta Hawks  | PF       | 18.6717\n",
       "Atlanta Hawks  | PG       | 8\n",
       "Atlanta Hawks  | SF       | 4\n",
       "Atlanta Hawks  | SG       | 5.74648\n",
       "Boston Celtics | C        | 2.61698\n",
       "Boston Celtics | PF       | 5\n",
       "Boston Celtics | PG       | 7.73034\n",
       "Boston Celtics | SF       | 6.79612\n",
       "Boston Celtics | SG       | 3.42551\n",
       "... (137 rows omitted)"
      ]
     },
     "execution_count": 26,
     "metadata": {},
     "output_type": "execute_result"
    }
   ],
   "source": [
    "starter_salaries = nba.drop(0).group(['TEAM', 'POSITION'], max)\n",
    "starter_salaries"
   ]
  },
  {
   "cell_type": "code",
   "execution_count": 27,
   "metadata": {},
   "outputs": [
    {
     "data": {
      "text/html": [
       "<table border=\"1\" class=\"dataframe\">\n",
       "    <thead>\n",
       "        <tr>\n",
       "            <th>TEAM</th> <th>SALARY max sum</th>\n",
       "        </tr>\n",
       "    </thead>\n",
       "    <tbody>\n",
       "        <tr>\n",
       "            <td>Cleveland Cavaliers  </td> <td>82.3166       </td>\n",
       "        </tr>\n",
       "        <tr>\n",
       "            <td>Oklahoma City Thunder</td> <td>70.6988       </td>\n",
       "        </tr>\n",
       "        <tr>\n",
       "            <td>Miami Heat           </td> <td>67.1273       </td>\n",
       "        </tr>\n",
       "        <tr>\n",
       "            <td>San Antonio Spurs    </td> <td>67.034        </td>\n",
       "        </tr>\n",
       "        <tr>\n",
       "            <td>Golden State Warriors</td> <td>66.6431       </td>\n",
       "        </tr>\n",
       "        <tr>\n",
       "            <td>Houston Rockets      </td> <td>61.2029       </td>\n",
       "        </tr>\n",
       "        <tr>\n",
       "            <td>Chicago Bulls        </td> <td>57.8247       </td>\n",
       "        </tr>\n",
       "        <tr>\n",
       "            <td>Los Angeles Lakers   </td> <td>55.8276       </td>\n",
       "        </tr>\n",
       "        <tr>\n",
       "            <td>New York Knicks      </td> <td>55.0595       </td>\n",
       "        </tr>\n",
       "        <tr>\n",
       "            <td>Memphis Grizzlies    </td> <td>53.5235       </td>\n",
       "        </tr>\n",
       "    </tbody>\n",
       "</table>\n",
       "<p>... (20 rows omitted)</p>"
      ],
      "text/plain": [
       "TEAM                  | SALARY max sum\n",
       "Cleveland Cavaliers   | 82.3166\n",
       "Oklahoma City Thunder | 70.6988\n",
       "Miami Heat            | 67.1273\n",
       "San Antonio Spurs     | 67.034\n",
       "Golden State Warriors | 66.6431\n",
       "Houston Rockets       | 61.2029\n",
       "Chicago Bulls         | 57.8247\n",
       "Los Angeles Lakers    | 55.8276\n",
       "New York Knicks       | 55.0595\n",
       "Memphis Grizzlies     | 53.5235\n",
       "... (20 rows omitted)"
      ]
     },
     "execution_count": 27,
     "metadata": {},
     "output_type": "execute_result"
    }
   ],
   "source": [
    "starter_salaries.drop(1).group('TEAM', sum).sort(1, descending=True)"
   ]
  },
  {
   "cell_type": "markdown",
   "metadata": {},
   "source": [
    "## Pivot Tables"
   ]
  },
  {
   "cell_type": "markdown",
   "metadata": {},
   "source": [
    "**Please run all cells before this cell, including the previous example cells and the import cell at the top of the notebook.**"
   ]
  },
  {
   "cell_type": "code",
   "execution_count": 28,
   "metadata": {},
   "outputs": [
    {
     "data": {
      "text/html": [
       "<table border=\"1\" class=\"dataframe\">\n",
       "    <thead>\n",
       "        <tr>\n",
       "            <th>Flavor</th> <th>Color</th> <th>Price</th>\n",
       "        </tr>\n",
       "    </thead>\n",
       "    <tbody>\n",
       "        <tr>\n",
       "            <td>strawberry</td> <td>pink       </td> <td>3.55 </td>\n",
       "        </tr>\n",
       "        <tr>\n",
       "            <td>chocolate </td> <td>light brown</td> <td>4.75 </td>\n",
       "        </tr>\n",
       "        <tr>\n",
       "            <td>chocolate </td> <td>dark brown </td> <td>5.25 </td>\n",
       "        </tr>\n",
       "        <tr>\n",
       "            <td>strawberry</td> <td>pink       </td> <td>5.25 </td>\n",
       "        </tr>\n",
       "        <tr>\n",
       "            <td>chocolate </td> <td>dark brown </td> <td>5.25 </td>\n",
       "        </tr>\n",
       "        <tr>\n",
       "            <td>bubblegum </td> <td>pink       </td> <td>4.75 </td>\n",
       "        </tr>\n",
       "    </tbody>\n",
       "</table>"
      ],
      "text/plain": [
       "Flavor     | Color       | Price\n",
       "strawberry | pink        | 3.55\n",
       "chocolate  | light brown | 4.75\n",
       "chocolate  | dark brown  | 5.25\n",
       "strawberry | pink        | 5.25\n",
       "chocolate  | dark brown  | 5.25\n",
       "bubblegum  | pink        | 4.75"
      ]
     },
     "execution_count": 28,
     "metadata": {},
     "output_type": "execute_result"
    }
   ],
   "source": [
    "all_cones"
   ]
  },
  {
   "cell_type": "code",
   "execution_count": 29,
   "metadata": {},
   "outputs": [
    {
     "data": {
      "text/html": [
       "<table border=\"1\" class=\"dataframe\">\n",
       "    <thead>\n",
       "        <tr>\n",
       "            <th>Flavor</th> <th>Color</th> <th>count</th>\n",
       "        </tr>\n",
       "    </thead>\n",
       "    <tbody>\n",
       "        <tr>\n",
       "            <td>bubblegum </td> <td>pink       </td> <td>1    </td>\n",
       "        </tr>\n",
       "        <tr>\n",
       "            <td>chocolate </td> <td>dark brown </td> <td>2    </td>\n",
       "        </tr>\n",
       "        <tr>\n",
       "            <td>chocolate </td> <td>light brown</td> <td>1    </td>\n",
       "        </tr>\n",
       "        <tr>\n",
       "            <td>strawberry</td> <td>pink       </td> <td>2    </td>\n",
       "        </tr>\n",
       "    </tbody>\n",
       "</table>"
      ],
      "text/plain": [
       "Flavor     | Color       | count\n",
       "bubblegum  | pink        | 1\n",
       "chocolate  | dark brown  | 2\n",
       "chocolate  | light brown | 1\n",
       "strawberry | pink        | 2"
      ]
     },
     "execution_count": 29,
     "metadata": {},
     "output_type": "execute_result"
    }
   ],
   "source": [
    "all_cones.group(['Flavor', 'Color'])"
   ]
  },
  {
   "cell_type": "code",
   "execution_count": 30,
   "metadata": {},
   "outputs": [
    {
     "data": {
      "text/html": [
       "<table border=\"1\" class=\"dataframe\">\n",
       "    <thead>\n",
       "        <tr>\n",
       "            <th>Color</th> <th>bubblegum</th> <th>chocolate</th> <th>strawberry</th>\n",
       "        </tr>\n",
       "    </thead>\n",
       "    <tbody>\n",
       "        <tr>\n",
       "            <td>dark brown </td> <td>0        </td> <td>2        </td> <td>0         </td>\n",
       "        </tr>\n",
       "        <tr>\n",
       "            <td>light brown</td> <td>0        </td> <td>1        </td> <td>0         </td>\n",
       "        </tr>\n",
       "        <tr>\n",
       "            <td>pink       </td> <td>1        </td> <td>0        </td> <td>2         </td>\n",
       "        </tr>\n",
       "    </tbody>\n",
       "</table>"
      ],
      "text/plain": [
       "Color       | bubblegum | chocolate | strawberry\n",
       "dark brown  | 0         | 2         | 0\n",
       "light brown | 0         | 1         | 0\n",
       "pink        | 1         | 0         | 2"
      ]
     },
     "execution_count": 30,
     "metadata": {},
     "output_type": "execute_result"
    }
   ],
   "source": [
    "all_cones.pivot('Flavor', 'Color')   # pivot table, contingency table"
   ]
  },
  {
   "cell_type": "code",
   "execution_count": 31,
   "metadata": {},
   "outputs": [
    {
     "data": {
      "text/html": [
       "<table border=\"1\" class=\"dataframe\">\n",
       "    <thead>\n",
       "        <tr>\n",
       "            <th>Flavor</th> <th>dark brown</th> <th>light brown</th> <th>pink</th>\n",
       "        </tr>\n",
       "    </thead>\n",
       "    <tbody>\n",
       "        <tr>\n",
       "            <td>bubblegum </td> <td>0         </td> <td>0          </td> <td>1   </td>\n",
       "        </tr>\n",
       "        <tr>\n",
       "            <td>chocolate </td> <td>2         </td> <td>1          </td> <td>0   </td>\n",
       "        </tr>\n",
       "        <tr>\n",
       "            <td>strawberry</td> <td>0         </td> <td>0          </td> <td>2   </td>\n",
       "        </tr>\n",
       "    </tbody>\n",
       "</table>"
      ],
      "text/plain": [
       "Flavor     | dark brown | light brown | pink\n",
       "bubblegum  | 0          | 0           | 1\n",
       "chocolate  | 2          | 1           | 0\n",
       "strawberry | 0          | 0           | 2"
      ]
     },
     "execution_count": 31,
     "metadata": {},
     "output_type": "execute_result"
    }
   ],
   "source": [
    "all_cones.pivot('Color', 'Flavor')"
   ]
  },
  {
   "cell_type": "code",
   "execution_count": 32,
   "metadata": {},
   "outputs": [
    {
     "data": {
      "text/html": [
       "<table border=\"1\" class=\"dataframe\">\n",
       "    <thead>\n",
       "        <tr>\n",
       "            <th>Flavor</th> <th>dark brown</th> <th>light brown</th> <th>pink</th>\n",
       "        </tr>\n",
       "    </thead>\n",
       "    <tbody>\n",
       "        <tr>\n",
       "            <td>bubblegum </td> <td>0         </td> <td>0          </td> <td>4.75</td>\n",
       "        </tr>\n",
       "        <tr>\n",
       "            <td>chocolate </td> <td>5.25      </td> <td>4.75       </td> <td>0   </td>\n",
       "        </tr>\n",
       "        <tr>\n",
       "            <td>strawberry</td> <td>0         </td> <td>0          </td> <td>5.25</td>\n",
       "        </tr>\n",
       "    </tbody>\n",
       "</table>"
      ],
      "text/plain": [
       "Flavor     | dark brown | light brown | pink\n",
       "bubblegum  | 0          | 0           | 4.75\n",
       "chocolate  | 5.25       | 4.75        | 0\n",
       "strawberry | 0          | 0           | 5.25"
      ]
     },
     "execution_count": 32,
     "metadata": {},
     "output_type": "execute_result"
    }
   ],
   "source": [
    "all_cones.pivot('Color', 'Flavor', values = 'Price', collect = max)"
   ]
  },
  {
   "cell_type": "code",
   "execution_count": 33,
   "metadata": {},
   "outputs": [
    {
     "data": {
      "text/html": [
       "<table border=\"1\" class=\"dataframe\">\n",
       "    <thead>\n",
       "        <tr>\n",
       "            <th>PLAYER</th> <th>POSITION</th> <th>TEAM</th> <th>SALARY</th>\n",
       "        </tr>\n",
       "    </thead>\n",
       "    <tbody>\n",
       "        <tr>\n",
       "            <td>Paul Millsap    </td> <td>PF      </td> <td>Atlanta Hawks</td> <td>18.6717</td>\n",
       "        </tr>\n",
       "        <tr>\n",
       "            <td>Al Horford      </td> <td>C       </td> <td>Atlanta Hawks</td> <td>12     </td>\n",
       "        </tr>\n",
       "        <tr>\n",
       "            <td>Tiago Splitter  </td> <td>C       </td> <td>Atlanta Hawks</td> <td>9.75625</td>\n",
       "        </tr>\n",
       "        <tr>\n",
       "            <td>Jeff Teague     </td> <td>PG      </td> <td>Atlanta Hawks</td> <td>8      </td>\n",
       "        </tr>\n",
       "        <tr>\n",
       "            <td>Kyle Korver     </td> <td>SG      </td> <td>Atlanta Hawks</td> <td>5.74648</td>\n",
       "        </tr>\n",
       "        <tr>\n",
       "            <td>Thabo Sefolosha </td> <td>SF      </td> <td>Atlanta Hawks</td> <td>4      </td>\n",
       "        </tr>\n",
       "        <tr>\n",
       "            <td>Mike Scott      </td> <td>PF      </td> <td>Atlanta Hawks</td> <td>3.33333</td>\n",
       "        </tr>\n",
       "        <tr>\n",
       "            <td>Kent Bazemore   </td> <td>SF      </td> <td>Atlanta Hawks</td> <td>2      </td>\n",
       "        </tr>\n",
       "        <tr>\n",
       "            <td>Dennis Schroder </td> <td>PG      </td> <td>Atlanta Hawks</td> <td>1.7634 </td>\n",
       "        </tr>\n",
       "        <tr>\n",
       "            <td>Tim Hardaway Jr.</td> <td>SG      </td> <td>Atlanta Hawks</td> <td>1.30452</td>\n",
       "        </tr>\n",
       "    </tbody>\n",
       "</table>\n",
       "<p>... (407 rows omitted)</p>"
      ],
      "text/plain": [
       "PLAYER           | POSITION | TEAM          | SALARY\n",
       "Paul Millsap     | PF       | Atlanta Hawks | 18.6717\n",
       "Al Horford       | C        | Atlanta Hawks | 12\n",
       "Tiago Splitter   | C        | Atlanta Hawks | 9.75625\n",
       "Jeff Teague      | PG       | Atlanta Hawks | 8\n",
       "Kyle Korver      | SG       | Atlanta Hawks | 5.74648\n",
       "Thabo Sefolosha  | SF       | Atlanta Hawks | 4\n",
       "Mike Scott       | PF       | Atlanta Hawks | 3.33333\n",
       "Kent Bazemore    | SF       | Atlanta Hawks | 2\n",
       "Dennis Schroder  | PG       | Atlanta Hawks | 1.7634\n",
       "Tim Hardaway Jr. | SG       | Atlanta Hawks | 1.30452\n",
       "... (407 rows omitted)"
      ]
     },
     "execution_count": 33,
     "metadata": {},
     "output_type": "execute_result"
    }
   ],
   "source": [
    "nba"
   ]
  },
  {
   "cell_type": "code",
   "execution_count": 34,
   "metadata": {},
   "outputs": [
    {
     "data": {
      "text/html": [
       "<table border=\"1\" class=\"dataframe\">\n",
       "    <thead>\n",
       "        <tr>\n",
       "            <th>TEAM</th> <th>POSITION</th> <th>SALARY average</th>\n",
       "        </tr>\n",
       "    </thead>\n",
       "    <tbody>\n",
       "        <tr>\n",
       "            <td>Atlanta Hawks </td> <td>C       </td> <td>7.58542       </td>\n",
       "        </tr>\n",
       "        <tr>\n",
       "            <td>Atlanta Hawks </td> <td>PF      </td> <td>11.0025       </td>\n",
       "        </tr>\n",
       "        <tr>\n",
       "            <td>Atlanta Hawks </td> <td>PG      </td> <td>4.8817        </td>\n",
       "        </tr>\n",
       "        <tr>\n",
       "            <td>Atlanta Hawks </td> <td>SF      </td> <td>3             </td>\n",
       "        </tr>\n",
       "        <tr>\n",
       "            <td>Atlanta Hawks </td> <td>SG      </td> <td>1.80969       </td>\n",
       "        </tr>\n",
       "        <tr>\n",
       "            <td>Boston Celtics</td> <td>C       </td> <td>2.45046       </td>\n",
       "        </tr>\n",
       "        <tr>\n",
       "            <td>Boston Celtics</td> <td>PF      </td> <td>3.08548       </td>\n",
       "        </tr>\n",
       "        <tr>\n",
       "            <td>Boston Celtics</td> <td>PG      </td> <td>4.97465       </td>\n",
       "        </tr>\n",
       "        <tr>\n",
       "            <td>Boston Celtics</td> <td>SF      </td> <td>4.41716       </td>\n",
       "        </tr>\n",
       "        <tr>\n",
       "            <td>Boston Celtics</td> <td>SG      </td> <td>2.00755       </td>\n",
       "        </tr>\n",
       "    </tbody>\n",
       "</table>\n",
       "<p>... (137 rows omitted)</p>"
      ],
      "text/plain": [
       "TEAM           | POSITION | SALARY average\n",
       "Atlanta Hawks  | C        | 7.58542\n",
       "Atlanta Hawks  | PF       | 11.0025\n",
       "Atlanta Hawks  | PG       | 4.8817\n",
       "Atlanta Hawks  | SF       | 3\n",
       "Atlanta Hawks  | SG       | 1.80969\n",
       "Boston Celtics | C        | 2.45046\n",
       "Boston Celtics | PF       | 3.08548\n",
       "Boston Celtics | PG       | 4.97465\n",
       "Boston Celtics | SF       | 4.41716\n",
       "Boston Celtics | SG       | 2.00755\n",
       "... (137 rows omitted)"
      ]
     },
     "execution_count": 34,
     "metadata": {},
     "output_type": "execute_result"
    }
   ],
   "source": [
    "nba.drop(0).group(['TEAM', 'POSITION'], np.average)"
   ]
  },
  {
   "cell_type": "code",
   "execution_count": 35,
   "metadata": {},
   "outputs": [
    {
     "data": {
      "text/html": [
       "<table border=\"1\" class=\"dataframe\">\n",
       "    <thead>\n",
       "        <tr>\n",
       "            <th>TEAM</th> <th>C</th> <th>PF</th> <th>PG</th> <th>SF</th> <th>SG</th>\n",
       "        </tr>\n",
       "    </thead>\n",
       "    <tbody>\n",
       "        <tr>\n",
       "            <td>Atlanta Hawks        </td> <td>7.58542</td> <td>11.0025</td> <td>4.8817 </td> <td>3      </td> <td>1.80969 </td>\n",
       "        </tr>\n",
       "        <tr>\n",
       "            <td>Boston Celtics       </td> <td>2.45046</td> <td>3.08548</td> <td>4.97465</td> <td>4.41716</td> <td>2.00755 </td>\n",
       "        </tr>\n",
       "        <tr>\n",
       "            <td>Brooklyn Nets        </td> <td>1.3629 </td> <td>4.45251</td> <td>3.9    </td> <td>13.0403</td> <td>1.74118 </td>\n",
       "        </tr>\n",
       "        <tr>\n",
       "            <td>Charlotte Hornets    </td> <td>6.77224</td> <td>4.68577</td> <td>4.4853 </td> <td>3.76642</td> <td>4.04238 </td>\n",
       "        </tr>\n",
       "        <tr>\n",
       "            <td>Chicago Bulls        </td> <td>10.4244</td> <td>3.46744</td> <td>11.1715</td> <td>1.95816</td> <td>6.19447 </td>\n",
       "        </tr>\n",
       "        <tr>\n",
       "            <td>Cleveland Cavaliers  </td> <td>7.75234</td> <td>19.689 </td> <td>6.55159</td> <td>22.9705</td> <td>8.98876 </td>\n",
       "        </tr>\n",
       "        <tr>\n",
       "            <td>Dallas Mavericks     </td> <td>3.23548</td> <td>11.9135</td> <td>4.41818</td> <td>15.3615</td> <td>1.21517 </td>\n",
       "        </tr>\n",
       "        <tr>\n",
       "            <td>Denver Nuggets       </td> <td>2.6163 </td> <td>7.02498</td> <td>3.72362</td> <td>7.19577</td> <td>0.841949</td>\n",
       "        </tr>\n",
       "        <tr>\n",
       "            <td>Detroit Pistons      </td> <td>4.0907 </td> <td>0      </td> <td>13.913 </td> <td>1.71622</td> <td>4.58088 </td>\n",
       "        </tr>\n",
       "        <tr>\n",
       "            <td>Golden State Warriors</td> <td>6.54125</td> <td>7.18637</td> <td>8.45726</td> <td>4.49669</td> <td>9.0005  </td>\n",
       "        </tr>\n",
       "    </tbody>\n",
       "</table>\n",
       "<p>... (20 rows omitted)</p>"
      ],
      "text/plain": [
       "TEAM                  | C       | PF      | PG      | SF      | SG\n",
       "Atlanta Hawks         | 7.58542 | 11.0025 | 4.8817  | 3       | 1.80969\n",
       "Boston Celtics        | 2.45046 | 3.08548 | 4.97465 | 4.41716 | 2.00755\n",
       "Brooklyn Nets         | 1.3629  | 4.45251 | 3.9     | 13.0403 | 1.74118\n",
       "Charlotte Hornets     | 6.77224 | 4.68577 | 4.4853  | 3.76642 | 4.04238\n",
       "Chicago Bulls         | 10.4244 | 3.46744 | 11.1715 | 1.95816 | 6.19447\n",
       "Cleveland Cavaliers   | 7.75234 | 19.689  | 6.55159 | 22.9705 | 8.98876\n",
       "Dallas Mavericks      | 3.23548 | 11.9135 | 4.41818 | 15.3615 | 1.21517\n",
       "Denver Nuggets        | 2.6163  | 7.02498 | 3.72362 | 7.19577 | 0.841949\n",
       "Detroit Pistons       | 4.0907  | 0       | 13.913  | 1.71622 | 4.58088\n",
       "Golden State Warriors | 6.54125 | 7.18637 | 8.45726 | 4.49669 | 9.0005\n",
       "... (20 rows omitted)"
      ]
     },
     "execution_count": 35,
     "metadata": {},
     "output_type": "execute_result"
    }
   ],
   "source": [
    "nba.pivot('POSITION', 'TEAM', 'SALARY', np.average)"
   ]
  },
  {
   "cell_type": "markdown",
   "metadata": {},
   "source": [
    "## Example 2: NBA Salaries with pivot"
   ]
  },
  {
   "cell_type": "markdown",
   "metadata": {},
   "source": [
    "**Please run all cells before this cell, including the previous example cells and the import cell at the top of the notebook.**"
   ]
  },
  {
   "cell_type": "code",
   "execution_count": 36,
   "metadata": {},
   "outputs": [
    {
     "data": {
      "text/html": [
       "<table border=\"1\" class=\"dataframe\">\n",
       "    <thead>\n",
       "        <tr>\n",
       "            <th>TEAM</th> <th>C</th> <th>PF</th> <th>PG</th> <th>SF</th> <th>SG</th>\n",
       "        </tr>\n",
       "    </thead>\n",
       "    <tbody>\n",
       "        <tr>\n",
       "            <td>Atlanta Hawks        </td> <td>12     </td> <td>18.6717</td> <td>8      </td> <td>4      </td> <td>5.74648</td>\n",
       "        </tr>\n",
       "        <tr>\n",
       "            <td>Boston Celtics       </td> <td>2.61698</td> <td>5      </td> <td>7.73034</td> <td>6.79612</td> <td>3.42551</td>\n",
       "        </tr>\n",
       "        <tr>\n",
       "            <td>Brooklyn Nets        </td> <td>1.3629 </td> <td>11.236 </td> <td>6.3    </td> <td>24.8949</td> <td>3.42551</td>\n",
       "        </tr>\n",
       "        <tr>\n",
       "            <td>Charlotte Hornets    </td> <td>13.5   </td> <td>7      </td> <td>12     </td> <td>6.3314 </td> <td>13.1253</td>\n",
       "        </tr>\n",
       "        <tr>\n",
       "            <td>Chicago Bulls        </td> <td>13.4   </td> <td>5.54373</td> <td>20.0931</td> <td>2.38044</td> <td>16.4075</td>\n",
       "        </tr>\n",
       "        <tr>\n",
       "            <td>Cleveland Cavaliers  </td> <td>14.2609</td> <td>19.689 </td> <td>16.4075</td> <td>22.9705</td> <td>8.98876</td>\n",
       "        </tr>\n",
       "        <tr>\n",
       "            <td>Dallas Mavericks     </td> <td>5.2    </td> <td>15.4937</td> <td>5.37897</td> <td>15.3615</td> <td>1.449  </td>\n",
       "        </tr>\n",
       "        <tr>\n",
       "            <td>Denver Nuggets       </td> <td>5.6135 </td> <td>11.236 </td> <td>4.345  </td> <td>14     </td> <td>1.58448</td>\n",
       "        </tr>\n",
       "        <tr>\n",
       "            <td>Detroit Pistons      </td> <td>6.5    </td> <td>0      </td> <td>13.913 </td> <td>2.84196</td> <td>6.27   </td>\n",
       "        </tr>\n",
       "        <tr>\n",
       "            <td>Golden State Warriors</td> <td>13.8   </td> <td>14.2609</td> <td>11.3708</td> <td>11.7105</td> <td>15.501 </td>\n",
       "        </tr>\n",
       "    </tbody>\n",
       "</table>\n",
       "<p>... (20 rows omitted)</p>"
      ],
      "text/plain": [
       "TEAM                  | C       | PF      | PG      | SF      | SG\n",
       "Atlanta Hawks         | 12      | 18.6717 | 8       | 4       | 5.74648\n",
       "Boston Celtics        | 2.61698 | 5       | 7.73034 | 6.79612 | 3.42551\n",
       "Brooklyn Nets         | 1.3629  | 11.236  | 6.3     | 24.8949 | 3.42551\n",
       "Charlotte Hornets     | 13.5    | 7       | 12      | 6.3314  | 13.1253\n",
       "Chicago Bulls         | 13.4    | 5.54373 | 20.0931 | 2.38044 | 16.4075\n",
       "Cleveland Cavaliers   | 14.2609 | 19.689  | 16.4075 | 22.9705 | 8.98876\n",
       "Dallas Mavericks      | 5.2     | 15.4937 | 5.37897 | 15.3615 | 1.449\n",
       "Denver Nuggets        | 5.6135  | 11.236  | 4.345   | 14      | 1.58448\n",
       "Detroit Pistons       | 6.5     | 0       | 13.913  | 2.84196 | 6.27\n",
       "Golden State Warriors | 13.8    | 14.2609 | 11.3708 | 11.7105 | 15.501\n",
       "... (20 rows omitted)"
      ]
     },
     "execution_count": 36,
     "metadata": {},
     "output_type": "execute_result"
    }
   ],
   "source": [
    "step_1 = nba.pivot('POSITION', 'TEAM', 'SALARY', max)\n",
    "step_1"
   ]
  },
  {
   "cell_type": "code",
   "execution_count": 37,
   "metadata": {},
   "outputs": [
    {
     "data": {
      "text/html": [
       "<table border=\"1\" class=\"dataframe\">\n",
       "    <thead>\n",
       "        <tr>\n",
       "            <th>TEAM</th> <th>C</th> <th>PF</th> <th>PG</th> <th>SF</th> <th>SG</th> <th>TOTAL</th>\n",
       "        </tr>\n",
       "    </thead>\n",
       "    <tbody>\n",
       "        <tr>\n",
       "            <td>Cleveland Cavaliers  </td> <td>14.2609</td> <td>19.689 </td> <td>16.4075</td> <td>22.9705</td> <td>8.98876</td> <td>82.3166</td>\n",
       "        </tr>\n",
       "        <tr>\n",
       "            <td>Oklahoma City Thunder</td> <td>16.4075</td> <td>12.25  </td> <td>16.7442</td> <td>20.1586</td> <td>5.13843</td> <td>70.6988</td>\n",
       "        </tr>\n",
       "        <tr>\n",
       "            <td>Miami Heat           </td> <td>0      </td> <td>22.1927</td> <td>14.783 </td> <td>10.1516</td> <td>20     </td> <td>67.1273</td>\n",
       "        </tr>\n",
       "        <tr>\n",
       "            <td>San Antonio Spurs    </td> <td>7.5    </td> <td>19.689 </td> <td>13.4375</td> <td>16.4075</td> <td>10     </td> <td>67.034 </td>\n",
       "        </tr>\n",
       "        <tr>\n",
       "            <td>Golden State Warriors</td> <td>13.8   </td> <td>14.2609</td> <td>11.3708</td> <td>11.7105</td> <td>15.501 </td> <td>66.6431</td>\n",
       "        </tr>\n",
       "        <tr>\n",
       "            <td>Houston Rockets      </td> <td>22.3594</td> <td>2.48953</td> <td>12.4045</td> <td>8.19303</td> <td>15.7564</td> <td>61.2029</td>\n",
       "        </tr>\n",
       "        <tr>\n",
       "            <td>Chicago Bulls        </td> <td>13.4   </td> <td>5.54373</td> <td>20.0931</td> <td>2.38044</td> <td>16.4075</td> <td>57.8247</td>\n",
       "        </tr>\n",
       "        <tr>\n",
       "            <td>Los Angeles Lakers   </td> <td>15.5922</td> <td>3.13224</td> <td>5.10312</td> <td>25     </td> <td>7      </td> <td>55.8276</td>\n",
       "        </tr>\n",
       "        <tr>\n",
       "            <td>New York Knicks      </td> <td>12.65  </td> <td>4.13172</td> <td>7.40281</td> <td>22.875 </td> <td>8      </td> <td>55.0595</td>\n",
       "        </tr>\n",
       "        <tr>\n",
       "            <td>Memphis Grizzlies    </td> <td>19.688 </td> <td>9.63856</td> <td>9.58843</td> <td>9.45   </td> <td>5.15854</td> <td>53.5235</td>\n",
       "        </tr>\n",
       "    </tbody>\n",
       "</table>\n",
       "<p>... (20 rows omitted)</p>"
      ],
      "text/plain": [
       "TEAM                  | C       | PF      | PG      | SF      | SG      | TOTAL\n",
       "Cleveland Cavaliers   | 14.2609 | 19.689  | 16.4075 | 22.9705 | 8.98876 | 82.3166\n",
       "Oklahoma City Thunder | 16.4075 | 12.25   | 16.7442 | 20.1586 | 5.13843 | 70.6988\n",
       "Miami Heat            | 0       | 22.1927 | 14.783  | 10.1516 | 20      | 67.1273\n",
       "San Antonio Spurs     | 7.5     | 19.689  | 13.4375 | 16.4075 | 10      | 67.034\n",
       "Golden State Warriors | 13.8    | 14.2609 | 11.3708 | 11.7105 | 15.501  | 66.6431\n",
       "Houston Rockets       | 22.3594 | 2.48953 | 12.4045 | 8.19303 | 15.7564 | 61.2029\n",
       "Chicago Bulls         | 13.4    | 5.54373 | 20.0931 | 2.38044 | 16.4075 | 57.8247\n",
       "Los Angeles Lakers    | 15.5922 | 3.13224 | 5.10312 | 25      | 7       | 55.8276\n",
       "New York Knicks       | 12.65   | 4.13172 | 7.40281 | 22.875  | 8       | 55.0595\n",
       "Memphis Grizzlies     | 19.688  | 9.63856 | 9.58843 | 9.45    | 5.15854 | 53.5235\n",
       "... (20 rows omitted)"
      ]
     },
     "execution_count": 37,
     "metadata": {},
     "output_type": "execute_result"
    }
   ],
   "source": [
    "totals = step_1.drop(0).apply(sum)\n",
    "step_1.with_columns('TOTAL', totals).sort(6, descending=True)"
   ]
  },
  {
   "cell_type": "markdown",
   "metadata": {},
   "source": [
    "## Comparing Distributions"
   ]
  },
  {
   "cell_type": "markdown",
   "metadata": {},
   "source": [
    "**Please run all cells before this cell, including the previous example cells and the import cell at the top of the notebook.**"
   ]
  },
  {
   "cell_type": "code",
   "execution_count": 38,
   "metadata": {},
   "outputs": [
    {
     "data": {
      "text/html": [
       "<table border=\"1\" class=\"dataframe\">\n",
       "    <thead>\n",
       "        <tr>\n",
       "            <th>Age</th> <th>Gender</th> <th>Educational Attainment</th> <th>Personal Income</th> <th>Population Count</th>\n",
       "        </tr>\n",
       "    </thead>\n",
       "    <tbody>\n",
       "        <tr>\n",
       "            <td>18 to 64 </td> <td>Female</td> <td>No high school diploma        </td> <td>H: 75,000 and over </td> <td>2058            </td>\n",
       "        </tr>\n",
       "        <tr>\n",
       "            <td>65 to 80+</td> <td>Male  </td> <td>No high school diploma        </td> <td>H: 75,000 and over </td> <td>2153            </td>\n",
       "        </tr>\n",
       "        <tr>\n",
       "            <td>65 to 80+</td> <td>Female</td> <td>No high school diploma        </td> <td>G: 50,000 to 74,999</td> <td>4666            </td>\n",
       "        </tr>\n",
       "        <tr>\n",
       "            <td>65 to 80+</td> <td>Female</td> <td>High school or equivalent     </td> <td>H: 75,000 and over </td> <td>7122            </td>\n",
       "        </tr>\n",
       "        <tr>\n",
       "            <td>65 to 80+</td> <td>Female</td> <td>No high school diploma        </td> <td>F: 35,000 to 49,999</td> <td>7261            </td>\n",
       "        </tr>\n",
       "        <tr>\n",
       "            <td>65 to 80+</td> <td>Male  </td> <td>No high school diploma        </td> <td>G: 50,000 to 74,999</td> <td>8569            </td>\n",
       "        </tr>\n",
       "        <tr>\n",
       "            <td>18 to 64 </td> <td>Female</td> <td>No high school diploma        </td> <td>G: 50,000 to 74,999</td> <td>14635           </td>\n",
       "        </tr>\n",
       "        <tr>\n",
       "            <td>65 to 80+</td> <td>Male  </td> <td>No high school diploma        </td> <td>F: 35,000 to 49,999</td> <td>15212           </td>\n",
       "        </tr>\n",
       "        <tr>\n",
       "            <td>65 to 80+</td> <td>Male  </td> <td>College, less than 4-yr degree</td> <td>B: 5,000 to 9,999  </td> <td>15423           </td>\n",
       "        </tr>\n",
       "        <tr>\n",
       "            <td>65 to 80+</td> <td>Female</td> <td>Bachelor's degree or higher   </td> <td>A: 0 to 4,999      </td> <td>15459           </td>\n",
       "        </tr>\n",
       "    </tbody>\n",
       "</table>\n",
       "<p>... (117 rows omitted)</p>"
      ],
      "text/plain": [
       "Age       | Gender | Educational Attainment         | Personal Income     | Population Count\n",
       "18 to 64  | Female | No high school diploma         | H: 75,000 and over  | 2058\n",
       "65 to 80+ | Male   | No high school diploma         | H: 75,000 and over  | 2153\n",
       "65 to 80+ | Female | No high school diploma         | G: 50,000 to 74,999 | 4666\n",
       "65 to 80+ | Female | High school or equivalent      | H: 75,000 and over  | 7122\n",
       "65 to 80+ | Female | No high school diploma         | F: 35,000 to 49,999 | 7261\n",
       "65 to 80+ | Male   | No high school diploma         | G: 50,000 to 74,999 | 8569\n",
       "18 to 64  | Female | No high school diploma         | G: 50,000 to 74,999 | 14635\n",
       "65 to 80+ | Male   | No high school diploma         | F: 35,000 to 49,999 | 15212\n",
       "65 to 80+ | Male   | College, less than 4-yr degree | B: 5,000 to 9,999   | 15423\n",
       "65 to 80+ | Female | Bachelor's degree or higher    | A: 0 to 4,999       | 15459\n",
       "... (117 rows omitted)"
      ]
     },
     "execution_count": 38,
     "metadata": {},
     "output_type": "execute_result"
    }
   ],
   "source": [
    "ca_2014"
   ]
  },
  {
   "cell_type": "code",
   "execution_count": 39,
   "metadata": {},
   "outputs": [
    {
     "data": {
      "text/html": [
       "<table border=\"1\" class=\"dataframe\">\n",
       "    <thead>\n",
       "        <tr>\n",
       "            <th>Personal Income</th> <th>Bachelor's degree or higher</th> <th>College, less than 4-yr degree</th> <th>High school or equivalent</th> <th>No high school diploma</th>\n",
       "        </tr>\n",
       "    </thead>\n",
       "    <tbody>\n",
       "        <tr>\n",
       "            <td>A: 0 to 4,999      </td> <td>575491                     </td> <td>985011                        </td> <td>1161873                  </td> <td>1204529               </td>\n",
       "        </tr>\n",
       "        <tr>\n",
       "            <td>B: 5,000 to 9,999  </td> <td>326020                     </td> <td>810641                        </td> <td>626499                   </td> <td>597039                </td>\n",
       "        </tr>\n",
       "        <tr>\n",
       "            <td>C: 10,000 to 14,999</td> <td>452449                     </td> <td>798596                        </td> <td>692661                   </td> <td>664607                </td>\n",
       "        </tr>\n",
       "        <tr>\n",
       "            <td>D: 15,000 to 24,999</td> <td>773684                     </td> <td>1345257                       </td> <td>1252377                  </td> <td>875498                </td>\n",
       "        </tr>\n",
       "        <tr>\n",
       "            <td>E: 25,000 to 34,999</td> <td>693884                     </td> <td>1091642                       </td> <td>929218                   </td> <td>464564                </td>\n",
       "        </tr>\n",
       "        <tr>\n",
       "            <td>F: 35,000 to 49,999</td> <td>1122791                    </td> <td>1112421                       </td> <td>782804                   </td> <td>260579                </td>\n",
       "        </tr>\n",
       "        <tr>\n",
       "            <td>G: 50,000 to 74,999</td> <td>1594681                    </td> <td>883826                        </td> <td>525517                   </td> <td>132516                </td>\n",
       "        </tr>\n",
       "        <tr>\n",
       "            <td>H: 75,000 and over </td> <td>2986698                    </td> <td>748103                        </td> <td>323192                   </td> <td>58945                 </td>\n",
       "        </tr>\n",
       "    </tbody>\n",
       "</table>"
      ],
      "text/plain": [
       "Personal Income     | Bachelor's degree or higher | College, less than 4-yr degree | High school or equivalent | No high school diploma\n",
       "A: 0 to 4,999       | 575491                      | 985011                         | 1161873                   | 1204529\n",
       "B: 5,000 to 9,999   | 326020                      | 810641                         | 626499                    | 597039\n",
       "C: 10,000 to 14,999 | 452449                      | 798596                         | 692661                    | 664607\n",
       "D: 15,000 to 24,999 | 773684                      | 1345257                        | 1252377                   | 875498\n",
       "E: 25,000 to 34,999 | 693884                      | 1091642                        | 929218                    | 464564\n",
       "F: 35,000 to 49,999 | 1122791                     | 1112421                        | 782804                    | 260579\n",
       "G: 50,000 to 74,999 | 1594681                     | 883826                         | 525517                    | 132516\n",
       "H: 75,000 and over  | 2986698                     | 748103                         | 323192                    | 58945"
      ]
     },
     "execution_count": 39,
     "metadata": {},
     "output_type": "execute_result"
    }
   ],
   "source": [
    "educ_income = ca_2014.pivot(2, 3, 4, sum)\n",
    "educ_income"
   ]
  },
  {
   "cell_type": "code",
   "execution_count": 40,
   "metadata": {},
   "outputs": [],
   "source": [
    "def percent(x):\n",
    "    \"\"\"Convert an array of counts into percents\"\"\"\n",
    "    return np.round((x / sum(x)) * 100, 2)"
   ]
  },
  {
   "cell_type": "code",
   "execution_count": 41,
   "metadata": {},
   "outputs": [
    {
     "data": {
      "text/html": [
       "<table border=\"1\" class=\"dataframe\">\n",
       "    <thead>\n",
       "        <tr>\n",
       "            <th>Personal Income</th> <th>Bachelors or Higher</th> <th>High School</th>\n",
       "        </tr>\n",
       "    </thead>\n",
       "    <tbody>\n",
       "        <tr>\n",
       "            <td>A: 0 to 4,999      </td> <td>6.75               </td> <td>12.67      </td>\n",
       "        </tr>\n",
       "        <tr>\n",
       "            <td>B: 5,000 to 9,999  </td> <td>3.82               </td> <td>10.43      </td>\n",
       "        </tr>\n",
       "        <tr>\n",
       "            <td>C: 10,000 to 14,999</td> <td>5.31               </td> <td>10.27      </td>\n",
       "        </tr>\n",
       "        <tr>\n",
       "            <td>D: 15,000 to 24,999</td> <td>9.07               </td> <td>17.3       </td>\n",
       "        </tr>\n",
       "        <tr>\n",
       "            <td>E: 25,000 to 34,999</td> <td>8.14               </td> <td>14.04      </td>\n",
       "        </tr>\n",
       "        <tr>\n",
       "            <td>F: 35,000 to 49,999</td> <td>13.17              </td> <td>14.31      </td>\n",
       "        </tr>\n",
       "        <tr>\n",
       "            <td>G: 50,000 to 74,999</td> <td>18.7               </td> <td>11.37      </td>\n",
       "        </tr>\n",
       "        <tr>\n",
       "            <td>H: 75,000 and over </td> <td>35.03              </td> <td>9.62       </td>\n",
       "        </tr>\n",
       "    </tbody>\n",
       "</table>"
      ],
      "text/plain": [
       "Personal Income     | Bachelors or Higher | High School\n",
       "A: 0 to 4,999       | 6.75                | 12.67\n",
       "B: 5,000 to 9,999   | 3.82                | 10.43\n",
       "C: 10,000 to 14,999 | 5.31                | 10.27\n",
       "D: 15,000 to 24,999 | 9.07                | 17.3\n",
       "E: 25,000 to 34,999 | 8.14                | 14.04\n",
       "F: 35,000 to 49,999 | 13.17               | 14.31\n",
       "G: 50,000 to 74,999 | 18.7                | 11.37\n",
       "H: 75,000 and over  | 35.03               | 9.62"
      ]
     },
     "execution_count": 41,
     "metadata": {},
     "output_type": "execute_result"
    }
   ],
   "source": [
    "distributions = educ_income.select(0).with_columns(\n",
    "    'Bachelors or Higher', percent(educ_income.column(1)),\n",
    "    'High School', percent(educ_income.column(2))\n",
    ")\n",
    "distributions"
   ]
  },
  {
   "cell_type": "code",
   "execution_count": 42,
   "metadata": {},
   "outputs": [
    {
     "data": {
      "text/plain": [
       "99.99000000000001"
      ]
     },
     "execution_count": 42,
     "metadata": {},
     "output_type": "execute_result"
    }
   ],
   "source": [
    "sum(distributions.column(1))"
   ]
  },
  {
   "cell_type": "code",
   "execution_count": 43,
   "metadata": {},
   "outputs": [
    {
     "data": {
      "image/png": "[encoded data removed]",
      "text/plain": [
       "<Figure size 432x288 with 1 Axes>"
      ]
     },
     "metadata": {},
     "output_type": "display_data"
    }
   ],
   "source": [
    "distributions.barh(0)"
   ]
  }
 ],
 "metadata": {
  "kernelspec": {
   "display_name": "Python 3",
   "language": "python",
   "name": "python3"
  },
  "language_info": {
   "codemirror_mode": {
    "name": "ipython",
    "version": 3
   },
   "file_extension": ".py",
   "mimetype": "text/x-python",
   "name": "python",
   "nbconvert_exporter": "python",
   "pygments_lexer": "ipython3",
   "version": "3.7.1"
  }
 },
 "nbformat": 4,
 "nbformat_minor": 2
}
